{
 "cells": [
  {
   "cell_type": "markdown",
   "id": "42453592-4ce2-4313-8bcf-4c7aa5684ced",
   "metadata": {
    "tags": []
   },
   "source": [
    "## Example Use of Reading Predictions from Virtual Solar Wind Monitor for Mars\n",
    "\n",
    "This .ipynb notebook provides a simple example of reading an hourly file of predictions from the vSWIM model availiable at [github.com/abbyazari/vSWIM](github.com/abbyazari/vSWIM). Please refer to the user guide at this Github repository for relevant citation and more information. \n",
    "\n",
    "Created by A. R. Azari on 5/10/2024\n"
   ]
  },
  {
   "cell_type": "code",
   "execution_count": 1,
   "id": "f6154746-42a2-48ff-8bd4-c80e89fdc300",
   "metadata": {},
   "outputs": [],
   "source": [
    "#import useful plotter functions\n",
    "#and datetime functionality\n",
    "\n",
    "import matplotlib.pyplot as plt\n",
    "import datetime          as dt\n",
    "import pandas            as pd"
   ]
  },
  {
   "cell_type": "markdown",
   "id": "b9182427-ad6d-4648-b1b0-9283e434f678",
   "metadata": {},
   "source": [
    "### 1. Read in vSWIM Predictions"
   ]
  },
  {
   "cell_type": "code",
   "execution_count": null,
   "id": "682fe744-252d-48ee-a248-a65db8ff2591",
   "metadata": {},
   "outputs": [],
   "source": [
    "#this reads a year of vSWIM hourly predictions into a pandas dataframe from a provided .csv\n",
    "#file located at https://github.com/abbyazari/vSWIM/tree/main/Data\n",
    "\n",
    "#format information is provided in https://github.com/abbyazari/vSWIM/blob/main/Data/format.md\n",
    "\n",
    "vSWIM22 = pd.read_csv('https://raw.githubusercontent.com/abbyazari/vSWIM/main/data/2022-2023_Hourly.csv', index_col=['Unnamed: 0'])"
   ]
  },
  {
   "cell_type": "code",
   "execution_count": null,
   "id": "f1338dfe-a2d5-4606-be2d-c7c654bc7215",
   "metadata": {},
   "outputs": [],
   "source": [
    "#convert datetime to pd.timestamp\n",
    "vSWIM22['date_[utc]'] = pd.to_datetime(vSWIM22['date_[utc]'])"
   ]
  },
  {
   "cell_type": "markdown",
   "id": "cbca0085-a2d6-4c35-af55-e85cd079f917",
   "metadata": {},
   "source": [
    "### 2. Basic Review of Results"
   ]
  },
  {
   "cell_type": "code",
   "execution_count": null,
   "id": "f5851409-3995-4f40-a231-f2d0050aa11c",
   "metadata": {},
   "outputs": [],
   "source": [
    "plt.fill_between(vSWIM22['date_[utc]'], vSWIM22['mu_v_x_SW']  - vSWIM22['sigma_v_x_SW'], \n",
    "                                            vSWIM22['mu_v_x_SW']  + vSWIM22['sigma_v_x_SW'], \n",
    "                                            color = 'grey', alpha = 0.5, label = r'$\\sigma_{pred}$')\n",
    "\n",
    "plt.scatter(vSWIM22['date_[utc]'], vSWIM22['mu_v_x_SW'], c = 'k',  \n",
    "            s = 5, label = r'$\\mu_{pred}$',)\n",
    "    \n",
    "plt.xlabel('Time [UTC]')\n",
    "\n",
    "plt.ylabel('V_x [km/s]')\n",
    "\n",
    "plt.legend()\n",
    "\n",
    "plt.show()"
   ]
  },
  {
   "cell_type": "markdown",
   "id": "bc45810c-9274-4039-a57a-6d1d5f87f413",
   "metadata": {},
   "source": [
    "The model is showing expected results. "
   ]
  },
  {
   "cell_type": "markdown",
   "id": "adecfc20-9910-4cb5-b03b-5e308c2c1c29",
   "metadata": {},
   "source": [
    "### 3. Assess Results by Time to Recent MAVEN Measurement"
   ]
  },
  {
   "cell_type": "code",
   "execution_count": null,
   "id": "2e7c1a5c-0bea-408c-af6e-b5ad4b5f8812",
   "metadata": {},
   "outputs": [],
   "source": [
    "#It is known that the mean predictions and the uncertainties for v_x degrade \n",
    "#if we are looking at data cumulatively within 10 days of a MAVEN data point\n",
    "#see table within github.com/abbyazari/vSWIM/Citation.bib"
   ]
  },
  {
   "cell_type": "code",
   "execution_count": null,
   "id": "400d6272-1667-4df2-87ff-2defc47fdcf4",
   "metadata": {},
   "outputs": [],
   "source": [
    "#How many days are we?\n",
    "\n",
    "plt.hist(vSWIM22.gap)\n",
    "\n",
    "plt.xlabel('Days')\n",
    "\n",
    "plt.ylabel('Count')"
   ]
  },
  {
   "cell_type": "markdown",
   "id": "118061c5-0cfc-4839-aef0-946aa7a98724",
   "metadata": {},
   "source": [
    "This is an extreme case of missing solar wind data from the original dataset. It is best to filter results by 2, 10, or 28 days to a recent solar wind measurement to obtain reasonable predictive performance. See table within associated publication for more guidance. https://github.com/abbyazari/vSWIM"
   ]
  },
  {
   "cell_type": "code",
   "execution_count": null,
   "id": "52666cf5-0356-4d4c-96eb-696bbd7ed973",
   "metadata": {},
   "outputs": [],
   "source": [
    "index = (vSWIM22.gap <= 10)"
   ]
  },
  {
   "cell_type": "code",
   "execution_count": null,
   "id": "b0a834fd-6ab8-4635-bf7c-fb99cbace799",
   "metadata": {},
   "outputs": [],
   "source": [
    "plt.fill_between(vSWIM22[index]['date_[utc]'], vSWIM22[index]['mu_v_x_SW']  - vSWIM22[index]['sigma_v_x_SW'], \n",
    "                                          vSWIM22[index]['mu_v_x_SW']  + vSWIM22[index]['sigma_v_x_SW'], \n",
    "                                          color = 'grey', alpha = 0.5, label = r'$\\sigma_{pred}$')\n",
    "\n",
    "plt.scatter(vSWIM22[index]['date_[utc]'], vSWIM22[index]['mu_v_x_SW'], c = 'k',  \n",
    "                                          s = 5, label = r'$\\mu_{pred}$',)\n",
    "    \n",
    "\n",
    "\n",
    "plt.xlabel('Time [UTC]')\n",
    "\n",
    "plt.ylabel('V_x [km/s]')\n",
    "\n",
    "plt.legend()\n",
    "\n",
    "plt.show()"
   ]
  },
  {
   "cell_type": "code",
   "execution_count": null,
   "id": "79581109-59cf-477d-8c6e-57129012678e",
   "metadata": {},
   "outputs": [],
   "source": []
  }
 ],
 "metadata": {
  "kernelspec": {
   "display_name": "Python [conda env:vSWIM]",
   "language": "python",
   "name": "conda-env-vSWIM-py"
  },
  "language_info": {
   "codemirror_mode": {
    "name": "ipython",
    "version": 3
   },
   "file_extension": ".py",
   "mimetype": "text/x-python",
   "name": "python",
   "nbconvert_exporter": "python",
   "pygments_lexer": "ipython3",
   "version": "3.12.3"
  }
 },
 "nbformat": 4,
 "nbformat_minor": 5
}
