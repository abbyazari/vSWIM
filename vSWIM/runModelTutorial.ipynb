{
 "cells": [
  {
   "cell_type": "markdown",
   "id": "42453592-4ce2-4313-8bcf-4c7aa5684ced",
   "metadata": {
    "tags": []
   },
   "source": [
    "## Example Use of Directly Running Virtual Solar Wind Monitor for Mars\n",
    "\n",
    "This .ipynb notebook provides a simple use case example for using the vSWIM model available at [github.com/abbyazari/vSWIM](github.com/abbyazari/vSWIM). Please refer to the user guide at this Github repository for relevant citation and more information. \n",
    "\n",
    "If you need hourly data please see [github.com/abbyazari/vSWIM/Data](github.com/abbyazari/vSWIM/Data) and do not run the model directly.\n",
    "\n",
    "Created by A. R. Azari on 1/31/2024\n"
   ]
  },
  {
   "cell_type": "code",
   "execution_count": 1,
   "id": "f6154746-42a2-48ff-8bd4-c80e89fdc300",
   "metadata": {},
   "outputs": [
    {
     "name": "stderr",
     "output_type": "stream",
     "text": [
      "2024-06-04 12:55:46.780008: I tensorflow/core/platform/cpu_feature_guard.cc:210] This TensorFlow binary is optimized to use available CPU instructions in performance-critical operations.\n",
      "To enable the following instructions: AVX2 FMA, in other operations, rebuild TensorFlow with the appropriate compiler flags.\n"
     ]
    }
   ],
   "source": [
    "#import useful plotter functions\n",
    "#and datetime functionality\n",
    "\n",
    "from   src               import vSWIM\n",
    "import matplotlib.pyplot as     plt\n",
    "import datetime          as     dt\n",
    "import pandas            as     pd"
   ]
  },
  {
   "cell_type": "markdown",
   "id": "b9182427-ad6d-4648-b1b0-9283e434f678",
   "metadata": {},
   "source": [
    "### 1. Use vSWIM"
   ]
  },
  {
   "cell_type": "code",
   "execution_count": null,
   "id": "682fe744-252d-48ee-a248-a65db8ff2591",
   "metadata": {},
   "outputs": [
    {
     "name": "stdout",
     "output_type": "stream",
     "text": [
      "Reading in original MAVEN files.\n",
      "Running from 2015-01-01 00:00:00 to 2015-01-04 00:00:00, in 3.0 segments, and for parameters:\n",
      "v_x_SW\n",
      "\n",
      "On 1 / 3 segments\n",
      "\n",
      "On 2 / 3 segments\n"
     ]
    }
   ],
   "source": [
    "#run vSWIM for second resolution data of vx for the first three days of January 2015\n",
    "\n",
    "#this will return the original dataset, maven from Halekas et al. 2017\n",
    "#https://agupubs.onlinelibrary.wiley.com/doi/full/10.1002/2016JA023167\n",
    "\n",
    "#See data sources and citations at https://github.com/abbyazari/vSWIM/tree/main?tab=readme-ov-file \n",
    "#if using this original file\n",
    "\n",
    "#and the results of the model itself, both as pandas dataframes\n",
    "maven, model = vSWIM.runvSWIM(startDate  = dt.datetime(2015, 1,  1),\n",
    "                                stopDate = dt.datetime(2015, 1,  4),\n",
    "                                cadence  = 1, \n",
    "                                params   = ['v_x_SW'], \n",
    "                                returnOriginal = True)\n",
    "                                "
   ]
  },
  {
   "cell_type": "code",
   "execution_count": null,
   "id": "f1338dfe-a2d5-4606-be2d-c7c654bc7215",
   "metadata": {},
   "outputs": [],
   "source": []
  },
  {
   "cell_type": "markdown",
   "id": "cbca0085-a2d6-4c35-af55-e85cd079f917",
   "metadata": {},
   "source": [
    "### 2. Quick Check of Results"
   ]
  },
  {
   "cell_type": "code",
   "execution_count": null,
   "id": "f5851409-3995-4f40-a231-f2d0050aa11c",
   "metadata": {},
   "outputs": [],
   "source": [
    "#plot original, Halekas et al., 2017 data (see data sources at https://github.com/abbyazari/vSWIM/tree/main) and model predictions\n",
    "\n",
    "indMaven = ((maven.date_SW >= model['date_[utc]'].values[0]) & \n",
    "            (maven.date_SW <= model['date_[utc]'].values[-1]))\n",
    "\n",
    "\n",
    "plt.fill_between(model['date_[utc]'], model['mu_v_x_SW']  - model['sigma_v_x_SW'], \n",
    "                                        model['mu_v_x_SW']  + model['sigma_v_x_SW'], \n",
    "                                        color = 'grey', alpha = 0.5, label = r'$\\sigma_{pred}$')\n",
    "\n",
    "\n",
    "plt.plot(model['date_[utc]'], model['mu_v_x_SW'], 'k', label = r'$\\mu_{pred}$')\n",
    "    \n",
    "plt.scatter(maven.loc[indMaven, 'date_SW'], maven.loc[indMaven, 'v_x_SW'], \n",
    "                    s = 10, c = 'r', label = 'Data')\n",
    "\n",
    "plt.xlabel('Time [UTC]')\n",
    "\n",
    "plt.ylabel('V_x [km/s]')\n",
    "\n",
    "plt.legend()\n",
    "\n",
    "plt.show()"
   ]
  },
  {
   "cell_type": "markdown",
   "id": "bc45810c-9274-4039-a57a-6d1d5f87f413",
   "metadata": {},
   "source": [
    "The model is showing expected results. "
   ]
  },
  {
   "cell_type": "markdown",
   "id": "adecfc20-9910-4cb5-b03b-5e308c2c1c29",
   "metadata": {},
   "source": [
    "### 3. Assess Results by Time to Recent MAVEN Measurement"
   ]
  },
  {
   "cell_type": "code",
   "execution_count": null,
   "id": "2e7c1a5c-0bea-408c-af6e-b5ad4b5f8812",
   "metadata": {},
   "outputs": [],
   "source": [
    "#It is known that the mean predictions and the uncertainties for v_x degrade \n",
    "#if we are looking at data cumulatively within 10 days of a MAVEN data point\n",
    "#see table within github.com/abbyazari/vSWIM/Citation.bib"
   ]
  },
  {
   "cell_type": "code",
   "execution_count": null,
   "id": "400d6272-1667-4df2-87ff-2defc47fdcf4",
   "metadata": {},
   "outputs": [],
   "source": [
    "#How many days are we?\n",
    "\n",
    "plt.hist(model.gap)\n",
    "\n",
    "plt.xlabel('Days')\n",
    "\n",
    "plt.ylabel('Count')"
   ]
  },
  {
   "cell_type": "markdown",
   "id": "118061c5-0cfc-4839-aef0-946aa7a98724",
   "metadata": {},
   "source": [
    "For this particular time period both the mean predictions and the uncertainities are well\n",
    "under 10 days and thus we expect R$^{2}$ values close to 0.99 and reasonably accurate uncertainty estimates."
   ]
  }
 ],
 "metadata": {
  "kernelspec": {
   "display_name": "Python [conda env:vSWIM]",
   "language": "python",
   "name": "conda-env-vSWIM-py"
  },
  "language_info": {
   "codemirror_mode": {
    "name": "ipython",
    "version": 3
   },
   "file_extension": ".py",
   "mimetype": "text/x-python",
   "name": "python",
   "nbconvert_exporter": "python",
   "pygments_lexer": "ipython3",
   "version": "3.12.3"
  }
 },
 "nbformat": 4,
 "nbformat_minor": 5
}
